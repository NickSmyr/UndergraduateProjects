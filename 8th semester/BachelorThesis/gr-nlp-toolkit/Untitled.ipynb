{
 "cells": [
  {
   "cell_type": "code",
   "execution_count": 1,
   "metadata": {},
   "outputs": [],
   "source": [
    "from gr_nlp_toolkit.pipeline.pipeline import Pipeline"
   ]
  },
  {
   "cell_type": "code",
   "execution_count": 3,
   "metadata": {},
   "outputs": [],
   "source": [
    "nlp = Pipeline(\"pos,pos,pos\")"
   ]
  },
  {
   "cell_type": "code",
   "execution_count": 5,
   "metadata": {},
   "outputs": [],
   "source": [
    "doc = nlp(\"H Ιταλία κέρδισε την Αγγλία στον τελικό του Euro\")"
   ]
  },
  {
   "cell_type": "code",
   "execution_count": 11,
   "metadata": {},
   "outputs": [
    {
     "name": "stdout",
     "output_type": "stream",
     "text": [
      "dict_keys(['_subwords', '_ner', '_upos', '_feats', '_head', '_deprel'])\n",
      "CCONJ\n",
      "dict_keys(['_subwords', '_ner', '_upos', '_feats', '_head', '_deprel'])\n",
      "X\n",
      "dict_keys(['_subwords', '_ner', '_upos', '_feats', '_head', '_deprel'])\n",
      "AUX\n",
      "dict_keys(['_subwords', '_ner', '_upos', '_feats', '_head', '_deprel'])\n",
      "X\n",
      "dict_keys(['_subwords', '_ner', '_upos', '_feats', '_head', '_deprel'])\n",
      "X\n",
      "dict_keys(['_subwords', '_ner', '_upos', '_feats', '_head', '_deprel'])\n",
      "ADJ\n",
      "dict_keys(['_subwords', '_ner', '_upos', '_feats', '_head', '_deprel'])\n",
      "X\n",
      "dict_keys(['_subwords', '_ner', '_upos', '_feats', '_head', '_deprel'])\n",
      "PUNCT\n",
      "dict_keys(['_subwords', '_ner', '_upos', '_feats', '_head', '_deprel'])\n",
      "SYM\n"
     ]
    }
   ],
   "source": [
    "doc\n",
    "for token in doc.tokens:\n",
    "    print(token.__dict__.keys())\n",
    "    print(token._upos)"
   ]
  },
  {
   "cell_type": "code",
   "execution_count": 16,
   "metadata": {},
   "outputs": [
    {
     "name": "stdout",
     "output_type": "stream",
     "text": [
      "Defaulting to user installation because normal site-packages is not writeable\n",
      "Requirement already satisfied: torch in /home/sm/.local/lib/python3.8/site-packages (1.9.0)\n",
      "Requirement already satisfied: typing-extensions in /home/sm/.local/lib/python3.8/site-packages (from torch) (3.10.0.0)\n"
     ]
    }
   ],
   "source": [
    "!pip install --upgrade torch"
   ]
  },
  {
   "cell_type": "code",
   "execution_count": 17,
   "metadata": {},
   "outputs": [
    {
     "name": "stdout",
     "output_type": "stream",
     "text": [
      "Name: torch\r\n",
      "Version: 1.9.0\r\n",
      "Summary: Tensors and Dynamic neural networks in Python with strong GPU acceleration\r\n",
      "Home-page: https://pytorch.org/\r\n",
      "Author: PyTorch Team\r\n",
      "Author-email: packages@pytorch.org\r\n",
      "License: BSD-3\r\n",
      "Location: /home/sm/.local/lib/python3.8/site-packages\r\n",
      "Requires: typing-extensions\r\n",
      "Required-by: torchvision, TorchCRF, stanza, pytorch-wrapper, fastai\r\n"
     ]
    }
   ],
   "source": [
    "!pip show torch"
   ]
  },
  {
   "cell_type": "code",
   "execution_count": null,
   "metadata": {},
   "outputs": [],
   "source": []
  }
 ],
 "metadata": {
  "kernelspec": {
   "display_name": "Python 3",
   "language": "python",
   "name": "python3"
  },
  "language_info": {
   "codemirror_mode": {
    "name": "ipython",
    "version": 3
   },
   "file_extension": ".py",
   "mimetype": "text/x-python",
   "name": "python",
   "nbconvert_exporter": "python",
   "pygments_lexer": "ipython3",
   "version": "3.8.10"
  }
 },
 "nbformat": 4,
 "nbformat_minor": 4
}
