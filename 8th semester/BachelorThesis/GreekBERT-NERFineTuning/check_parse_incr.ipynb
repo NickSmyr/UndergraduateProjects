{
 "cells": [
  {
   "cell_type": "code",
   "execution_count": 21,
   "metadata": {},
   "outputs": [],
   "source": [
    "from conllu import parse_incr\n",
    "import io\n",
    "from conllu import parse\n",
    "import result_transformation as rt\n",
    "\n",
    "\n",
    "train_dataset_file = 'data/ud/train.conllu'\n",
    "dev_dataset_file = 'data/ud/dev.conllu'\n",
    "test_dataset_file = 'data/ud/test.conllu'"
   ]
  },
  {
   "cell_type": "code",
   "execution_count": 5,
   "metadata": {},
   "outputs": [
    {
     "name": "stdout",
     "output_type": "stream",
     "text": [
      "TokenList<Το, ζήτημα, αυτό, παραμένει, ασαφές, και, η, ασάφεια, στο, σ, το, ποινικό, δίκαιο, είναι, εις, βάρος, της, νομικής, ασφάλειας, .>\n"
     ]
    }
   ],
   "source": [
    "f = io.StringIO(\"\"\"\n",
    "# sent_id = gdt-20020206-ep-sessions_031-6\n",
    "# text = Το ζήτημα αυτό παραμένει ασαφές και η ασάφεια στο ποινικό δίκαιο είναι εις βάρος της νομικής ασφάλειας.\n",
    "1\tΤο\tο\tDET\tDET\tCase=Nom|Definite=Def|Gender=Neut|Number=Sing|PronType=Art\t2\tdet\t_\t_\n",
    "2\tζήτημα\tζήτημα\tNOUN\tNOUN\tCase=Nom|Gender=Neut|Number=Sing\t4\tnsubj\t_\t_\n",
    "3\tαυτό\tαυτός\tPRON\tPRON\tCase=Nom|Gender=Neut|Number=Sing|Person=3|PronType=Dem\t2\tdet\t_\t_\n",
    "4\tπαραμένει\tπαραμένω\tVERB\tVERB\tAspect=Imp|Mood=Ind|Number=Sing|Person=3|Tense=Pres|VerbForm=Fin|Voice=Act\t0\troot\t_\t_\n",
    "5\tασαφές\tασαφής\tADJ\tADJ\tCase=Nom|Gender=Neut|Number=Sing\t4\txcomp\t_\t_\n",
    "6\tκαι\tκαι\tCCONJ\tCCONJ\t_\t15\tcc\t_\t_\n",
    "7\tη\tο\tDET\tDET\tCase=Nom|Definite=Def|Gender=Fem|Number=Sing|PronType=Art\t8\tdet\t_\t_\n",
    "8\tασάφεια\tασάφεια\tNOUN\tNOUN\tCase=Nom|Gender=Fem|Number=Sing\t15\tnsubj\t_\t_\n",
    "9-10\tστο\t_\t_\t_\t_\t_\t_\t_\t_\n",
    "9\tσ\tσε\tADP\tAsPpSp\t_\t12\tcase\t_\t_\n",
    "10\tτο\tο\tDET\tAtDf\tCase=Acc|Gender=Neut|Number=Sing\t12\tdet\t_\t_\n",
    "11\tποινικό\tποινικός\tADJ\tADJ\tCase=Acc|Gender=Neut|Number=Sing\t12\tamod\t_\t_\n",
    "12\tδίκαιο\tδίκαιο\tNOUN\tNOUN\tCase=Acc|Gender=Neut|Number=Sing\t8\tnmod\t_\t_\n",
    "13\tείναι\tείμαι\tAUX\tAUX\tAspect=Imp|Mood=Ind|Number=Sing|Person=3|Tense=Pres|VerbForm=Fin|Voice=Pass\t15\tcop\t_\t_\n",
    "14\tεις\tεις\tADP\tADP\t_\t15\tcase\t_\t_\n",
    "15\tβάρος\tβάρος\tNOUN\tNOUN\tCase=Acc|Gender=Neut|Number=Sing\t4\tconj\t_\t_\n",
    "16\tτης\tο\tDET\tDET\tCase=Gen|Definite=Def|Gender=Fem|Number=Sing|PronType=Art\t18\tdet\t_\t_\n",
    "17\tνομικής\tνομικός\tADJ\tADJ\tCase=Gen|Gender=Fem|Number=Sing\t18\tamod\t_\t_\n",
    "18\tασφάλειας\tασφάλεια\tNOUN\tNOUN\tCase=Gen|Gender=Fem|Number=Sing\t15\tnmod\t_\tSpaceAfter=No\n",
    "19\t.\t.\tPUNCT\tPUNCT\t_\t4\tpunct\t_\t_\n",
    "\"\"\")\n",
    "\n",
    "\n",
    "for tokenlist in parse_incr(f):\n",
    "    print(tokenlist)"
   ]
  },
  {
   "cell_type": "code",
   "execution_count": 20,
   "metadata": {},
   "outputs": [],
   "source": [
    "data_file = open(train_dataset_file, \"r\", encoding=\"utf-8\")\n",
    "sentences = parse(data_file.read())\n",
    "for sent in sentences:\n",
    "    for w in sent:\n",
    "        if(type(w['id']) is tuple):\n",
    "            if((not w['form'].startswith('στ')) and (not w['form'].startswith('Στ'))) :\n",
    "                print('{} {} {}'.format(w['form'], w['upos'], w['xpos']))\n",
    "                \n",
    "                "
   ]
  },
  {
   "cell_type": "code",
   "execution_count": 83,
   "metadata": {},
   "outputs": [
    {
     "data": {
      "image/png": "[encoded data removed]",
      "text/plain": [
       "<Figure size 1080x360 with 1 Axes>"
      ]
     },
     "metadata": {},
     "output_type": "display_data"
    }
   ],
   "source": [
    "res_ud_new = \"\"\"'Abbr-macro-f1': macro-f1: 0.9660,\n",
    "'Abbr-micro-f1': micro-f1: 0.9991,\n",
    " 'Aspect-macro-f1': macro-f1: 0.9927,\n",
    " 'Aspect-micro-f1': micro-f1: 0.9985,\n",
    " 'Case-macro-f1': macro-f1: 0.9874,\n",
    " 'Case-micro-f1': micro-f1: 0.9842,\n",
    " 'Definite-macro-f1': macro-f1: 0.9966,\n",
    " 'Definite-micro-f1': micro-f1: 0.9997,\n",
    " 'Degree-macro-f1': macro-f1: 0.7467,\n",
    " 'Degree-micro-f1': micro-f1: 0.9994,\n",
    " 'Foreign-macro-f1': macro-f1: 0.8847,\n",
    " 'Foreign-micro-f1': micro-f1: 0.9946,\n",
    " 'Gender-macro-f1': macro-f1: 0.9798,\n",
    " 'Gender-micro-f1': micro-f1: 0.9862,\n",
    " 'Mood-macro-f1': macro-f1: 0.9621,\n",
    " 'Mood-micro-f1': micro-f1: 0.9995,\n",
    " 'NumType-macro-f1': macro-f1: 0.9453,\n",
    " 'NumType-micro-f1': micro-f1: 0.9973,\n",
    " 'Number-macro-f1': macro-f1: 0.9923,\n",
    " 'Number-micro-f1': micro-f1: 0.9919,\n",
    " 'Person-macro-f1': macro-f1: 0.9976,\n",
    " 'Person-micro-f1': micro-f1: 0.9989,\n",
    " 'Poss-macro-f1': macro-f1: 0.9950,\n",
    " 'Poss-micro-f1': micro-f1: 0.9998,\n",
    " 'PronType-macro-f1': macro-f1: 0.9748,\n",
    " 'PronType-micro-f1': micro-f1: 0.9989,\n",
    " 'Tense-macro-f1': macro-f1: 0.9962,\n",
    " 'Tense-micro-f1': micro-f1: 0.9993,\n",
    " 'VerbForm-macro-f1': macro-f1: 0.9584,\n",
    " 'VerbForm-micro-f1': micro-f1: 0.9990,\n",
    " 'Voice-macro-f1': macro-f1: 0.9743,\n",
    " 'Voice-micro-f1': micro-f1: 0.9960,\n",
    " 'upos-macro-f1': macro-f1: 0.9655,\n",
    " 'upos-micro-f1': micro-f1: 0.9830,\n",
    "\"\"\"\n",
    "# 'total-acc': acc: 0.9956,\n",
    "\n",
    "i=0\n",
    "labels =[]\n",
    "macros=[]\n",
    "micros=[]\n",
    "for line in res_ud_new.splitlines():\n",
    "    s_line = line.split()\n",
    "    if i==0:\n",
    "        index = s_line[0].find('-')\n",
    "        labels.append(s_line[0][1:index])\n",
    "        macros.append(float(s_line[-1][:-3]))\n",
    "        i = i + 1\n",
    "    else:\n",
    "        i=0\n",
    "        micros.append(float(s_line[-1][:-3]))\n",
    "rt.plot([macros, micros], ['macro-f1', 'micro-f1'], labels = labels,width=0.4,saved_path='imgs/ud_most_common.png',y_upper_lim=1, figsize=(15,5))"
   ]
  },
  {
   "cell_type": "code",
   "execution_count": 68,
   "metadata": {},
   "outputs": [
    {
     "data": {
      "text/plain": [
       "18"
      ]
     },
     "execution_count": 68,
     "metadata": {},
     "output_type": "execute_result"
    }
   ],
   "source": [
    "len(macros)"
   ]
  }
 ],
 "metadata": {
  "kernelspec": {
   "display_name": "Python 3",
   "language": "python",
   "name": "python3"
  },
  "language_info": {
   "codemirror_mode": {
    "name": "ipython",
    "version": 3
   },
   "file_extension": ".py",
   "mimetype": "text/x-python",
   "name": "python",
   "nbconvert_exporter": "python",
   "pygments_lexer": "ipython3",
   "version": "3.7.9"
  }
 },
 "nbformat": 4,
 "nbformat_minor": 4
}
