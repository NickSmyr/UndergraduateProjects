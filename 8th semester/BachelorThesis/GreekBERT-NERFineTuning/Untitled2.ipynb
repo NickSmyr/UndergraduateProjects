{
 "cells": [
  {
   "cell_type": "code",
   "execution_count": 10,
   "metadata": {},
   "outputs": [],
   "source": [
    "from tqdm import tqdm\n",
    "import urllib\n",
    "class DownloadProgressBar(tqdm):\n",
    "    def update_to(self, b=1, bsize=1, tsize=None):\n",
    "        if tsize is not None:\n",
    "            self.total = tsize\n",
    "            self.update(b * bsize - self.n)\n",
    "            \n",
    "def download_url(url, output_path):\n",
    "    with DownloadProgressBar(unit='B', unit_scale=True,\n",
    "                              miniters=1, desc=url.split('/')[-1]) as t:\n",
    "        return urllib.request.urlretrieve(url, filename=output_path, reporthook=t.update_to)\n"
   ]
  },
  {
   "cell_type": "code",
   "execution_count": 11,
   "metadata": {},
   "outputs": [
    {
     "name": "stderr",
     "output_type": "stream",
     "text": [
      "uc?export=download&confirm=naic&id=1Or5HDk1kVnxI3_w0fwgR8-dzO0jvcc_L: 8.19kB [00:00, 13.8kB/s]\n"
     ]
    }
   ],
   "source": [
    "res = download_url('https://drive.google.com/u/0/uc?export=download&confirm=naic&id=1Or5HDk1kVnxI3_w0fwgR8-dzO0jvcc_L' , '/tmp/sss')"
   ]
  },
  {
   "cell_type": "code",
   "execution_count": 17,
   "metadata": {},
   "outputs": [
    {
     "data": {
      "text/plain": [
       "dict_keys(['policy', '_headers', '_unixfrom', '_payload', '_charset', 'preamble', 'epilogue', 'defects', '_default_type'])"
      ]
     },
     "execution_count": 17,
     "metadata": {},
     "output_type": "execute_result"
    }
   ],
   "source": [
    "res[1].__dict__.keys()"
   ]
  },
  {
   "cell_type": "code",
   "execution_count": 19,
   "metadata": {},
   "outputs": [
    {
     "data": {
      "text/plain": [
       "[('Content-Type', 'text/html; charset=utf-8'),\n",
       " ('Cache-Control', 'no-cache, no-store, max-age=0, must-revalidate'),\n",
       " ('Pragma', 'no-cache'),\n",
       " ('Expires', 'Mon, 01 Jan 1990 00:00:00 GMT'),\n",
       " ('Date', 'Mon, 19 Jul 2021 16:59:32 GMT'),\n",
       " ('P3P', 'CP=\"This is not a P3P policy! See g.co/p3phelp for more info.\"'),\n",
       " ('Content-Security-Policy',\n",
       "  \"script-src 'report-sample' 'nonce-LfMVs9QCfYFRc9S95nd5jg' 'unsafe-inline' 'strict-dynamic' https: http: 'unsafe-eval';object-src 'none';base-uri 'self';report-uri https://csp.withgoogle.com/csp/drive-explorer/\"),\n",
       " ('X-Content-Type-Options', 'nosniff'),\n",
       " ('X-Frame-Options', 'SAMEORIGIN'),\n",
       " ('X-XSS-Protection', '1; mode=block'),\n",
       " ('Server', 'GSE'),\n",
       " ('Set-Cookie',\n",
       "  'download_warning_13058876669334088843_1Or5HDk1kVnxI3_w0fwgR8-dzO0jvcc_L=_cPd; Domain=.drive.google.com; Expires=Mon, 19-Jul-2021 17:04:32 GMT; Path=/u/0/uc; Secure; HttpOnly; SameSite=none'),\n",
       " ('Set-Cookie',\n",
       "  'NID=219=bMGe3NN6hMHWtSMr_6hqnXvmdFQngULW50x1VG8Xes3X88K4bsFQlpeHUfMBPsj8k11QgFiVpef9c_lSSH5A0gMK-cjjzVLH-8L0E9VsbxTWpy80Le4tk4wtn7b4hadnuoOkiRkJR5NQ8yGJEizYoxEpKXoLKGPhMUtJPxyKOYE; expires=Tue, 18-Jan-2022 16:59:32 GMT; path=/; domain=.google.com; HttpOnly'),\n",
       " ('Alt-Svc',\n",
       "  'h3=\":443\"; ma=2592000,h3-29=\":443\"; ma=2592000,h3-T051=\":443\"; ma=2592000,h3-Q050=\":443\"; ma=2592000,h3-Q046=\":443\"; ma=2592000,h3-Q043=\":443\"; ma=2592000,quic=\":443\"; ma=2592000; v=\"46,43\"'),\n",
       " ('Accept-Ranges', 'none'),\n",
       " ('Vary', 'Accept-Encoding'),\n",
       " ('Connection', 'close'),\n",
       " ('Transfer-Encoding', 'chunked')]"
      ]
     },
     "execution_count": 19,
     "metadata": {},
     "output_type": "execute_result"
    }
   ],
   "source": [
    "res[1]._headers"
   ]
  },
  {
   "cell_type": "code",
   "execution_count": 26,
   "metadata": {},
   "outputs": [
    {
     "name": "stderr",
     "output_type": "stream",
     "text": [
      "Downloading...\n",
      "From: https://drive.google.com/uc?id=1NhEqmLBf67Ydw-LdI7eB-f0afMPgNSmG\n",
      "To: /home/sm/repos/GreekBERT-NERFineTuning/20150428_collected_images.tgz\n",
      "639MB [01:54, 5.57MB/s] \n"
     ]
    },
    {
     "data": {
      "text/plain": [
       "'20150428_collected_images.tgz'"
      ]
     },
     "execution_count": 26,
     "metadata": {},
     "output_type": "execute_result"
    }
   ],
   "source": [
    "import gdown\n",
    "\n",
    "pos_url = 'https://drive.google.com/uc?id=1Or5HDk1kVnxI3_w0fwgR8-dzO0jvcc_L' #pos link\n",
    "ner_url = 'https://drive.google.com/uc?id=1fx0pHtcN7F2Vj9L8y5TUpbjSqKTUaT3i'# ner link\n",
    "dp_url = 'https://drive.google.com/uc?id=1NhEqmLBf67Ydw-LdI7eB-f0afMPgNSmG' # dp link\n",
    "output = '20150428_collected_images.tgz'\n",
    "gdown.download(url, output, quiet=False)"
   ]
  },
  {
   "cell_type": "code",
   "execution_count": null,
   "metadata": {},
   "outputs": [],
   "source": [
    "gdown.download()"
   ]
  }
 ],
 "metadata": {
  "kernelspec": {
   "display_name": "Python 3",
   "language": "python",
   "name": "python3"
  },
  "language_info": {
   "codemirror_mode": {
    "name": "ipython",
    "version": 3
   },
   "file_extension": ".py",
   "mimetype": "text/x-python",
   "name": "python",
   "nbconvert_exporter": "python",
   "pygments_lexer": "ipython3",
   "version": "3.8.10"
  }
 },
 "nbformat": 4,
 "nbformat_minor": 4
}
