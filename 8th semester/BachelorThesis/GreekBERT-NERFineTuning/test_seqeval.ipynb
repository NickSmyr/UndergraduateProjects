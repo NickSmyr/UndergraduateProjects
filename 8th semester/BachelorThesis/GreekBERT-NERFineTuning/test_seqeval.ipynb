{
 "cells": [
  {
   "cell_type": "code",
   "execution_count": 1,
   "metadata": {},
   "outputs": [
    {
     "name": "stdout",
     "output_type": "stream",
     "text": [
      "{('MISC', 2, 5), ('PER', 7, 8)}\n",
      "{('PER', 7, 8), ('MISC', 3, 5)}\n",
      "\n",
      "{('PER', 7, 8)}\n",
      "{('MISC', 2, 5)}\n",
      "{('MISC', 3, 5)}\n",
      "\n"
     ]
    }
   ],
   "source": [
    "def _is_end_of_chunk(prev_tag, tag, prev_tag_type, tag_type):\n",
    "    return (\n",
    "            prev_tag == 'E' or\n",
    "            prev_tag == 'S' or\n",
    "            prev_tag == 'B' and tag == 'B' or\n",
    "            prev_tag == 'B' and tag == 'S' or\n",
    "            prev_tag == 'B' and tag == 'O' or\n",
    "            prev_tag == 'I' and tag == 'B' or\n",
    "            prev_tag == 'I' and tag == 'S' or\n",
    "            prev_tag == 'I' and tag == 'O' or\n",
    "            prev_tag != 'O' and prev_tag_type != tag_type\n",
    "    )\n",
    "\n",
    "\n",
    "def _is_start_of_chunk(prev_tag, tag, prev_tag_type, tag_type):\n",
    "    return (\n",
    "            tag == 'B' or\n",
    "            tag == 'S' or\n",
    "            prev_tag == 'E' and tag == 'E' or\n",
    "            prev_tag == 'E' and tag == 'I' or\n",
    "            prev_tag == 'S' and tag == 'E' or\n",
    "            prev_tag == 'S' and tag == 'I' or\n",
    "            prev_tag == 'O' and tag == 'E' or\n",
    "            prev_tag == 'O' and tag == 'I' or\n",
    "            tag != 'O' and prev_tag_type != tag_type\n",
    "    )\n",
    "def convert_tags_to_entities(seq):\n",
    "    # for nested list\n",
    "    if any(isinstance(s, list) for s in seq):\n",
    "        seq = [item for sublist in seq for item in sublist + ['O']]\n",
    "\n",
    "    prev_tag = 'O'\n",
    "    prev_tag_type = ''\n",
    "    begin_offset = 0\n",
    "    chunks = []\n",
    "    for i, chunk in enumerate(seq + ['O']):\n",
    "        tag = chunk[0]\n",
    "        tag_type = '-'.join(chunk.split('-')[1:])\n",
    "        if _is_end_of_chunk(prev_tag, tag, prev_tag_type, tag_type):\n",
    "            chunks.append((prev_tag_type, begin_offset, i - 1))\n",
    "        if _is_start_of_chunk(prev_tag, tag, prev_tag_type, tag_type):\n",
    "            begin_offset = i\n",
    "        prev_tag = tag\n",
    "        prev_tag_type = tag_type\n",
    "\n",
    "    return chunks\n",
    "from sklearn.metrics import classification_report\n",
    "# y_true = [0, 1, 2, 0, 1, 2]\n",
    "# y_pred = [0, 2, 1, 0, 0, 1]\n",
    "\n",
    "# y_true = [str(i) for i in y_true]\n",
    "# y_pred = [str(i) for i in y_pred]\n",
    "\n",
    "y_true = [['O', 'O', 'O', 'B-MISC', 'I-MISC', 'I-MISC', 'O', 'B-PER', 'I-PER', 'O']]\n",
    "y_pred = [['O', 'O', 'B-MISC', 'I-MISC', 'I-MISC', 'I-MISC', 'O','B-PER', 'I-PER', 'O']]\n",
    "\n",
    "converted_out = set(convert_tags_to_entities(y_pred))\n",
    "converted_targets= set(convert_tags_to_entities(y_true))\n",
    "\n",
    "print(converted_out)\n",
    "print(converted_targets)\n",
    "\n",
    "print()\n",
    "cur_tp = converted_out.intersection(converted_targets)\n",
    "cur_fp = converted_out.difference(converted_targets)\n",
    "cur_fn = converted_targets.difference(converted_out)\n",
    "\n",
    "\n",
    "\n",
    "# y_true = []\n",
    "# y_pred = []\n",
    "# for out,targ in zip(converted_out, converted_targets):\n",
    "#     if(out==targ):\n",
    "#         y_true.append()\n",
    "#         y_pred.append()\n",
    "\n",
    "#print(classification_report(converted_out, converted_targets))"
   ]
  },
  {
   "cell_type": "code",
   "execution_count": 2,
   "metadata": {},
   "outputs": [
    {
     "name": "stdout",
     "output_type": "stream",
     "text": [
      "           precision    recall  f1-score   support\n",
      "\n",
      "     MISC       0.33      0.33      0.33         3\n",
      "      PER       1.00      1.00      1.00         1\n",
      "\n",
      "micro avg       0.50      0.50      0.50         4\n",
      "macro avg       0.50      0.50      0.50         4\n",
      "\n"
     ]
    }
   ],
   "source": [
    "from seqeval.metrics import classification_report\n",
    "\n",
    "y_true = [['O', 'O', 'B-MISC', 'I-MISC', 'I-MISC', \n",
    "           'O', 'B-PER', 'I-PER', 'O','B-MISC', 'I-MISC','O','O','B-MISC', 'I-MISC']]\n",
    "y_pred = [['O', 'B-MISC', 'I-MISC', 'I-MISC', 'I-MISC', \n",
    "           'O','B-PER', 'I-PER', 'O','B-MISC', 'I-MISC','O','B-MISC', 'I-MISC', 'I-MISC']]\n",
    "\n",
    "\n",
    "print(classification_report(y_true, y_pred))"
   ]
  }
 ],
 "metadata": {
  "kernelspec": {
   "display_name": "Python 3",
   "language": "python",
   "name": "python3"
  },
  "language_info": {
   "codemirror_mode": {
    "name": "ipython",
    "version": 3
   },
   "file_extension": ".py",
   "mimetype": "text/x-python",
   "name": "python",
   "nbconvert_exporter": "python",
   "pygments_lexer": "ipython3",
   "version": "3.7.9"
  }
 },
 "nbformat": 4,
 "nbformat_minor": 4
}
