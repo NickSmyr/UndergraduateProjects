{
 "cells": [
  {
   "cell_type": "code",
   "execution_count": 1,
   "metadata": {},
   "outputs": [],
   "source": [
    "import torch\n",
    "import pytorch_wrapper as pw\n",
    "\n",
    "\n",
    "from examples.utils.fasttext_downloader import download_model\n",
    "from examples.utils.text import strip_accents_and_lowercase\n",
    "\n",
    "from examples.ner.bert import system_wrapper as sw"
   ]
  },
  {
   "cell_type": "code",
   "execution_count": 2,
   "metadata": {},
   "outputs": [
    {
     "name": "stdout",
     "output_type": "stream",
     "text": [
      "Object `system.predict` not found.\n"
     ]
    }
   ],
   "source": [
    "system.predict??"
   ]
  },
  {
   "cell_type": "code",
   "execution_count": null,
   "metadata": {},
   "outputs": [],
   "source": [
    "test_dataset_file = 'data/ner/test.txt'\n",
    "f = open(test_dataset_file, encoding=\"utf8\")"
   ]
  },
  {
   "cell_type": "code",
   "execution_count": null,
   "metadata": {},
   "outputs": [],
   "source": [
    "dp = 0.1\n",
    "batch_size = 4\n",
    "\n",
    "sw = sw.NERBERTSystemWrapper(\n",
    "        'nlpaueb/bert-base-greek-uncased-v1',\n",
    "        strip_accents_and_lowercase,\n",
    "        True,\n",
    "        {'dp': dp},\n",
    "        '18IOBES'\n",
    "    )\n",
    "sw._system.load_model_state('models/ner_greek_bert_model_4IOBES')\n",
    "\n",
    "multi_gpu = False\n",
    "silent = False"
   ]
  },
  {
   "cell_type": "code",
   "execution_count": null,
   "metadata": {},
   "outputs": [],
   "source": [
    "sw.evaluate(test_dataset_file, batch_size, multi_gpu, not silent)\n",
    "sw._system.predict(self.eval_dataloader, perform_last_activation=True)"
   ]
  },
  {
   "cell_type": "code",
   "execution_count": null,
   "metadata": {},
   "outputs": [],
   "source": [
    "def prec(tp, fp):\n",
    "    return tp/(tp+fp)\n",
    "def recall(tp, fn):\n",
    "    return tp/(tp+fn)\n",
    "def f1(p, r):\n",
    "    return (2*p*r)/(p+r)\n",
    "\n",
    "fn = sw.evals['macro-f1']._fn\n",
    "fp = sw.evals['macro-f1']._fp\n",
    "tp = sw.evals['macro-f1']._tp\n",
    "l = [ 'Label : %s Prec %.2f Rec %.2f F1 %.2f' % \n",
    "        (l ,prec(tp[l] ,fp[l]) , recall(tp[l] , fn[l]) , f1(prec(tp[l] ,fp[l]) , recall(tp[l] , fn[l]))) \n",
    "        for l in fn ]\n",
    "print(l)"
   ]
  }
 ],
 "metadata": {
  "kernelspec": {
   "display_name": "Python 3",
   "language": "python",
   "name": "python3"
  },
  "language_info": {
   "codemirror_mode": {
    "name": "ipython",
    "version": 3
   },
   "file_extension": ".py",
   "mimetype": "text/x-python",
   "name": "python",
   "nbconvert_exporter": "python",
   "pygments_lexer": "ipython3",
   "version": "3.7.9"
  }
 },
 "nbformat": 4,
 "nbformat_minor": 4
}
