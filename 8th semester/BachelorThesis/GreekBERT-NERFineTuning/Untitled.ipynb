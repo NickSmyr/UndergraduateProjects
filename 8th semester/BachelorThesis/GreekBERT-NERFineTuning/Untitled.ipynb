{
 "cells": [
  {
   "cell_type": "code",
   "execution_count": 1,
   "metadata": {},
   "outputs": [],
   "source": [
    "import pickle\n",
    "from pprint import pprint"
   ]
  },
  {
   "cell_type": "code",
   "execution_count": 49,
   "metadata": {},
   "outputs": [
    {
     "name": "stdout",
     "output_type": "stream",
     "text": [
      "πειραιως _ Yes\n",
      "πειραιως _ Yes\n",
      "λισαβονας _ Yes\n",
      "τσελσι _ Yes\n",
      "ντ _ Yes\n",
      "n _ Yes\n",
      "βαβ _ Yes\n",
      "τιμ _ Yes\n",
      "χα _ Yes\n",
      "τιμ _ Yes\n",
      "χα _ Yes\n",
      "δρ _ Yes\n",
      "ετα _ Yes\n",
      "φε _ Yes\n",
      "γκιουλεν _ Yes\n",
      "ερντογαν _ Yes\n",
      "ρετζεπ _ Yes\n",
      "γκιουλεν _ Yes\n",
      "χι _ Yes\n",
      "φε _ Yes\n",
      "γκιουλεν _ Yes\n",
      "φε _ Yes\n",
      "γκιουλεν _ Yes\n",
      "φε _ Yes\n",
      "γκιουλεν _ Yes\n",
      "k _ Yes\n",
      "καρα _ Yes\n",
      "πε _ Yes\n",
      "αλα _ Yes\n",
      "γιου _ Yes\n",
      "αλτσχαιμερ _ Yes\n",
      "φρα _ Yes\n"
     ]
    }
   ],
   "source": [
    "worst_feats = ['Degree', 'Mood', 'Foreign']\n",
    "\n",
    "sentences = pickle.load(open('sentences.pickle', \"rb\"))\n",
    "\n",
    "#0: words\n",
    "\n",
    "#1:Degree \n",
    "#2:Mood \n",
    "#3:Foreign \n",
    "\n",
    "def read_by_feat(f_i=1):\n",
    "    for sen in sentences:\n",
    "        words = sen[0]\n",
    "        feat = sen[f_i]\n",
    "        \n",
    "        #0:targets\n",
    "        #1:predictions\n",
    "        targets = feat[0]\n",
    "        preds = feat[1]\n",
    "        for w,t,p in zip(words,targets,preds):\n",
    "            if(t!='None' and t!=p and p!='_'):\n",
    "                print(w,t,p)\n",
    "        \n",
    "read_by_feat(3)"
   ]
  }
 ],
 "metadata": {
  "kernelspec": {
   "display_name": "Python 3",
   "language": "python",
   "name": "python3"
  },
  "language_info": {
   "codemirror_mode": {
    "name": "ipython",
    "version": 3
   },
   "file_extension": ".py",
   "mimetype": "text/x-python",
   "name": "python",
   "nbconvert_exporter": "python",
   "pygments_lexer": "ipython3",
   "version": "3.7.9"
  }
 },
 "nbformat": 4,
 "nbformat_minor": 4
}
