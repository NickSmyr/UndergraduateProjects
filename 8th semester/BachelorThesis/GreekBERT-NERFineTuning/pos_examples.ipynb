{
 "cells": [
  {
   "cell_type": "code",
   "execution_count": 1,
   "metadata": {},
   "outputs": [],
   "source": [
    "import pickle\n",
    "from pprint import pprint\n",
    "from texttable import Texttable"
   ]
  },
  {
   "cell_type": "code",
   "execution_count": 14,
   "metadata": {},
   "outputs": [],
   "source": [
    "worst_feats = ['Degree', 'Mood', 'Foreign']\n",
    "\n",
    "sentences = pickle.load(open('sentences.pickle', \"rb\"))\n",
    "\n",
    "#0: words\n",
    "\n",
    "#2:Degree \n",
    "#3:Mood \n",
    "#4:Foreign \n",
    "\n",
    "def read_by_feat(f_i=1):\n",
    "    tables = []\n",
    "    for sen in sentences:\n",
    "        sentence = sen[0]\n",
    "        words = sen[1]\n",
    "        feat = sen[f_i]\n",
    "        \n",
    "        #0:targets\n",
    "        #1:predictions\n",
    "        targets = feat[0]\n",
    "        preds = feat[1]\n",
    "        isFirst=True\n",
    "        for w,t,p in zip(words,targets,preds):\n",
    "            if(t!='None' and t!=p and t=='Imp'):\n",
    "                if(isFirst):\n",
    "                    print(sentence)\n",
    "                    table = Texttable()\n",
    "                    rows = [['word','target','prediction']]\n",
    "                    isFirst= not isFirst\n",
    "                rows.append([w,t,p])\n",
    "                print() \n",
    "        if(not isFirst):\n",
    "            table.add_rows(rows)\n",
    "            print(table.draw())\n",
    "            print() \n",
    "            print() "
   ]
  },
  {
   "cell_type": "code",
   "execution_count": 16,
   "metadata": {},
   "outputs": [
    {
     "name": "stdout",
     "output_type": "stream",
     "text": [
      "περιοριστε τις φιλοδοξιες σας στα σ τα θεματα διευρυνσης και εσωτερικης μεταρρυθμισης.\n",
      "\n",
      "+----------+--------+------------+\n",
      "|   word   | target | prediction |\n",
      "+==========+========+============+\n",
      "| περιορισ | Imp    | Ind        |\n",
      "+----------+--------+------------+\n",
      "\n",
      "\n",
      "αφηστε το θεμα της προετοιμασιας των ψηφοφοριων στις σ τις επιτροπες.\n",
      "\n",
      "+--------+--------+------------+\n",
      "|  word  | target | prediction |\n",
      "+========+========+============+\n",
      "| αφηστε | Imp    | Ind        |\n",
      "+--------+--------+------------+\n",
      "\n",
      "\n",
      "δωστε στην σ την ολομελεια τη δυνατοτητα να ασχοληθει με τα σημαντικα πολιτικα θεματα.\n",
      "\n",
      "+-------+--------+------------+\n",
      "| word  | target | prediction |\n",
      "+=======+========+============+\n",
      "| δωστε | Imp    | Ind        |\n",
      "+-------+--------+------------+\n",
      "\n",
      "\n",
      "αφηστε το ενα τριτο του χρονου αγορευσης για πραγματικες συζητησεις.\n",
      "\n",
      "+--------+--------+------------+\n",
      "|  word  | target | prediction |\n",
      "+========+========+============+\n",
      "| αφηστε | Imp    | Ind        |\n",
      "+--------+--------+------------+\n",
      "\n",
      "\n",
      "αφηστε μας να στριμωχνουμε στον σ τον τοιχο τον / την επιτροπο, οταν δηλωνει οτι η επιτροπη μπορει να εγκρινει την τροπολογια αριθ. 3 και απορριπτει τις τροπολογιες αριθ. 2, 4, 5, 6, 7, 8 και 9.\n",
      "\n",
      "+--------+--------+------------+\n",
      "|  word  | target | prediction |\n",
      "+========+========+============+\n",
      "| αφηστε | Imp    | Ind        |\n",
      "+--------+--------+------------+\n",
      "\n",
      "\n",
      "δωστε στον σ τον εαυτο σας μια καλυτερη επιλογη.\n",
      "\n",
      "+-------+--------+------------+\n",
      "| word  | target | prediction |\n",
      "+=======+========+============+\n",
      "| δωστε | Imp    | Ind        |\n",
      "+-------+--------+------------+\n",
      "\n",
      "\n",
      "επιπλεον, κατα τη διαρκεια της βελγικης προεδριας συμφωνηθηκε η επεξεργασια ενος αποχαρακτηρισμενου εγγραφου σχετικα με την απειλη, που θα διαβιβαστει στο σ το ευρωπαικο κοινοβουλιο και που θα το λαβετε, κυριες και κυριοι, οταν ολοκληρωθουν οι διαφορες γλωσσικες αποδοσεις.\n",
      "\n",
      "+--------+--------+------------+\n",
      "|  word  | target | prediction |\n",
      "+========+========+============+\n",
      "| λαβετε | Imp    | Ind        |\n",
      "+--------+--------+------------+\n",
      "\n",
      "\n"
     ]
    }
   ],
   "source": [
    "read_by_feat(3)"
   ]
  }
 ],
 "metadata": {
  "kernelspec": {
   "display_name": "Python 3",
   "language": "python",
   "name": "python3"
  },
  "language_info": {
   "codemirror_mode": {
    "name": "ipython",
    "version": 3
   },
   "file_extension": ".py",
   "mimetype": "text/x-python",
   "name": "python",
   "nbconvert_exporter": "python",
   "pygments_lexer": "ipython3",
   "version": "3.7.9"
  }
 },
 "nbformat": 4,
 "nbformat_minor": 4
}
