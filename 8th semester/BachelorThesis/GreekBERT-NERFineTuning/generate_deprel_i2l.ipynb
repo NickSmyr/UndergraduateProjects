{
 "cells": [
  {
   "cell_type": "code",
   "execution_count": 22,
   "metadata": {},
   "outputs": [],
   "source": [
    "train_file = open('data/ud/train.conllu' , 'r')\n",
    "dev_file = open('data/ud/dev.conllu' , 'r')\n",
    "test_file = open('data/ud/test.conllu' , 'r')"
   ]
  },
  {
   "cell_type": "code",
   "execution_count": 21,
   "metadata": {
    "code_folding": [
     2
    ]
   },
   "outputs": [],
   "source": [
    "from conllu import parse_incr\n",
    "\n",
    "def get_deprel_set_for_dataset_file(dataset_file):\n",
    "    deprel_set = set()\n",
    "    for token_list in parse_incr(dataset_file):\n",
    "        for token in token_list:\n",
    "            #print(token['deprel'])\n",
    "            if type(token['id']) == tuple:\n",
    "                continue\n",
    "            deprel_set.add(token['deprel'])\n",
    "    return deprel_set\n"
   ]
  },
  {
   "cell_type": "code",
   "execution_count": 23,
   "metadata": {},
   "outputs": [],
   "source": [
    "dtrain = get_deprel_set_for_dataset_file(train_file)\n",
    "ddev = get_deprel_set_for_dataset_file(dev_file)\n",
    "dtest = get_deprel_set_for_dataset_file(test_file)"
   ]
  },
  {
   "cell_type": "code",
   "execution_count": 24,
   "metadata": {},
   "outputs": [
    {
     "data": {
      "text/plain": [
       "{'dep', 'discourse', 'obl:arg'}"
      ]
     },
     "execution_count": 24,
     "metadata": {},
     "output_type": "execute_result"
    }
   ],
   "source": [
    "(dtrain - ddev)"
   ]
  },
  {
   "cell_type": "code",
   "execution_count": 25,
   "metadata": {},
   "outputs": [
    {
     "data": {
      "text/plain": [
       "{'dep', 'discourse', 'obl:arg'}"
      ]
     },
     "execution_count": 25,
     "metadata": {},
     "output_type": "execute_result"
    }
   ],
   "source": [
    "dtrain -dtest"
   ]
  },
  {
   "cell_type": "code",
   "execution_count": 28,
   "metadata": {},
   "outputs": [
    {
     "data": {
      "text/plain": [
       "(set(), set())"
      ]
     },
     "execution_count": 28,
     "metadata": {},
     "output_type": "execute_result"
    }
   ],
   "source": [
    "dtest - ddev, ddev - dtest"
   ]
  },
  {
   "cell_type": "code",
   "execution_count": 29,
   "metadata": {
    "collapsed": true
   },
   "outputs": [
    {
     "data": {
      "text/plain": [
       "{'acl',\n",
       " 'acl:relcl',\n",
       " 'advcl',\n",
       " 'advmod',\n",
       " 'amod',\n",
       " 'appos',\n",
       " 'aux',\n",
       " 'case',\n",
       " 'cc',\n",
       " 'ccomp',\n",
       " 'compound',\n",
       " 'conj',\n",
       " 'cop',\n",
       " 'csubj',\n",
       " 'csubj:pass',\n",
       " 'dep',\n",
       " 'det',\n",
       " 'discourse',\n",
       " 'expl',\n",
       " 'fixed',\n",
       " 'flat',\n",
       " 'iobj',\n",
       " 'mark',\n",
       " 'nmod',\n",
       " 'nsubj',\n",
       " 'nsubj:pass',\n",
       " 'nummod',\n",
       " 'obj',\n",
       " 'obl',\n",
       " 'obl:agent',\n",
       " 'obl:arg',\n",
       " 'orphan',\n",
       " 'parataxis',\n",
       " 'punct',\n",
       " 'root',\n",
       " 'vocative',\n",
       " 'xcomp'}"
      ]
     },
     "execution_count": 29,
     "metadata": {},
     "output_type": "execute_result"
    }
   ],
   "source": [
    "dtrain"
   ]
  },
  {
   "cell_type": "code",
   "execution_count": 30,
   "metadata": {
    "collapsed": true
   },
   "outputs": [
    {
     "data": {
      "text/plain": [
       "['obl',\n",
       " 'obj',\n",
       " 'dep',\n",
       " 'mark',\n",
       " 'case',\n",
       " 'flat',\n",
       " 'nummod',\n",
       " 'obl:arg',\n",
       " 'punct',\n",
       " 'cop',\n",
       " 'acl:relcl',\n",
       " 'expl',\n",
       " 'nsubj',\n",
       " 'csubj:pass',\n",
       " 'root',\n",
       " 'advmod',\n",
       " 'nsubj:pass',\n",
       " 'ccomp',\n",
       " 'conj',\n",
       " 'amod',\n",
       " 'xcomp',\n",
       " 'aux',\n",
       " 'appos',\n",
       " 'csubj',\n",
       " 'fixed',\n",
       " 'nmod',\n",
       " 'iobj',\n",
       " 'parataxis',\n",
       " 'orphan',\n",
       " 'det',\n",
       " 'advcl',\n",
       " 'vocative',\n",
       " 'compound',\n",
       " 'cc',\n",
       " 'discourse',\n",
       " 'acl',\n",
       " 'obl:agent']"
      ]
     },
     "execution_count": 30,
     "metadata": {},
     "output_type": "execute_result"
    }
   ],
   "source": [
    "i2l = [x for x in dtrain]\n",
    "i2l"
   ]
  },
  {
   "cell_type": "code",
   "execution_count": 31,
   "metadata": {},
   "outputs": [],
   "source": [
    "import pickle"
   ]
  },
  {
   "cell_type": "code",
   "execution_count": 34,
   "metadata": {},
   "outputs": [],
   "source": [
    "pickle.dump(i2l , open('deprel_i2l.pickle', 'wb'))"
   ]
  },
  {
   "cell_type": "code",
   "execution_count": null,
   "metadata": {},
   "outputs": [],
   "source": []
  }
 ],
 "metadata": {
  "kernelspec": {
   "display_name": "Python 3",
   "language": "python",
   "name": "python3"
  },
  "language_info": {
   "codemirror_mode": {
    "name": "ipython",
    "version": 3
   },
   "file_extension": ".py",
   "mimetype": "text/x-python",
   "name": "python",
   "nbconvert_exporter": "python",
   "pygments_lexer": "ipython3",
   "version": "3.8.5"
  }
 },
 "nbformat": 4,
 "nbformat_minor": 4
}
