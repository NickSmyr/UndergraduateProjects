{
 "cells": [
  {
   "cell_type": "code",
   "execution_count": 1,
   "metadata": {},
   "outputs": [],
   "source": [
    "results = \"\"\"\n",
    "         eval_loss = 0.09954912210219449\n",
    "eval_accuracy_score = 0.9793651553597932\n",
    "eval_precision = 0.9028389251556095\n",
    "eval_recall = 0.9241647241647242\n",
    "eval_f1 = 0.9133773613884195\n",
    "eval_report =              \n",
    "\n",
    "              precision    recall  f1-score   support\n",
    "\n",
    "   CARDINAL       0.93      0.96      0.94       911\n",
    "    PERCENT       0.99      1.00      0.99       206\n",
    "       DATE       0.92      0.94      0.93       838\n",
    "     PERSON       0.96      0.97      0.97      1051\n",
    "    ORDINAL       0.95      0.96      0.95       172\n",
    "        ORG       0.88      0.89      0.88      1388\n",
    "       NORP       0.91      0.92      0.92       141\n",
    "        GPE       0.93      0.95      0.94       826\n",
    "        LOC       0.77      0.79      0.78       178\n",
    "        LAW       0.81      0.79      0.80        28\n",
    "       TIME       0.87      0.91      0.89       137\n",
    "        FAC       0.64      0.64      0.64        77\n",
    "      EVENT       0.62      0.75      0.68       130\n",
    "WORK_OF_ART       0.78      0.80      0.79        84\n",
    "    PRODUCT       0.74      0.81      0.77        83\n",
    "      MONEY       0.98      0.97      0.98       111\n",
    "   LANGUAGE       0.89      0.89      0.89         9\n",
    "   QUANTITY       0.83      0.88      0.85        65\n",
    "\n",
    "  micro avg       0.90      0.92      0.91      6435\n",
    "  macro avg       0.90      0.92      0.91      6435\n",
    "\n",
    "          \"\"\""
   ]
  },
  {
   "cell_type": "code",
   "execution_count": 2,
   "metadata": {},
   "outputs": [],
   "source": [
    "lines = results.split(\"\\n\")"
   ]
  },
  {
   "cell_type": "code",
   "execution_count": 3,
   "metadata": {},
   "outputs": [
    {
     "data": {
      "text/plain": [
       "['',\n",
       " '         eval_loss = 0.09954912210219449',\n",
       " 'eval_accuracy_score = 0.9793651553597932',\n",
       " 'eval_precision = 0.9028389251556095',\n",
       " 'eval_recall = 0.9241647241647242',\n",
       " 'eval_f1 = 0.9133773613884195',\n",
       " 'eval_report =              ',\n",
       " '',\n",
       " '              precision    recall  f1-score   support',\n",
       " '',\n",
       " '   CARDINAL       0.93      0.96      0.94       911',\n",
       " '    PERCENT       0.99      1.00      0.99       206',\n",
       " '       DATE       0.92      0.94      0.93       838',\n",
       " '     PERSON       0.96      0.97      0.97      1051',\n",
       " '    ORDINAL       0.95      0.96      0.95       172',\n",
       " '        ORG       0.88      0.89      0.88      1388',\n",
       " '       NORP       0.91      0.92      0.92       141',\n",
       " '        GPE       0.93      0.95      0.94       826',\n",
       " '        LOC       0.77      0.79      0.78       178',\n",
       " '        LAW       0.81      0.79      0.80        28',\n",
       " '       TIME       0.87      0.91      0.89       137',\n",
       " '        FAC       0.64      0.64      0.64        77',\n",
       " '      EVENT       0.62      0.75      0.68       130',\n",
       " 'WORK_OF_ART       0.78      0.80      0.79        84',\n",
       " '    PRODUCT       0.74      0.81      0.77        83',\n",
       " '      MONEY       0.98      0.97      0.98       111',\n",
       " '   LANGUAGE       0.89      0.89      0.89         9',\n",
       " '   QUANTITY       0.83      0.88      0.85        65',\n",
       " '',\n",
       " '  micro avg       0.90      0.92      0.91      6435',\n",
       " '  macro avg       0.90      0.92      0.91      6435',\n",
       " '',\n",
       " '          ']"
      ]
     },
     "execution_count": 3,
     "metadata": {},
     "output_type": "execute_result"
    }
   ],
   "source": [
    "lines"
   ]
  },
  {
   "cell_type": "code",
   "execution_count": 4,
   "metadata": {},
   "outputs": [],
   "source": [
    "labels = lines[10:28]"
   ]
  },
  {
   "cell_type": "code",
   "execution_count": 5,
   "metadata": {},
   "outputs": [
    {
     "data": {
      "text/plain": [
       "['   CARDINAL       0.93      0.96      0.94       911',\n",
       " '    PERCENT       0.99      1.00      0.99       206',\n",
       " '       DATE       0.92      0.94      0.93       838',\n",
       " '     PERSON       0.96      0.97      0.97      1051',\n",
       " '    ORDINAL       0.95      0.96      0.95       172',\n",
       " '        ORG       0.88      0.89      0.88      1388',\n",
       " '       NORP       0.91      0.92      0.92       141',\n",
       " '        GPE       0.93      0.95      0.94       826',\n",
       " '        LOC       0.77      0.79      0.78       178',\n",
       " '        LAW       0.81      0.79      0.80        28',\n",
       " '       TIME       0.87      0.91      0.89       137',\n",
       " '        FAC       0.64      0.64      0.64        77',\n",
       " '      EVENT       0.62      0.75      0.68       130',\n",
       " 'WORK_OF_ART       0.78      0.80      0.79        84',\n",
       " '    PRODUCT       0.74      0.81      0.77        83',\n",
       " '      MONEY       0.98      0.97      0.98       111',\n",
       " '   LANGUAGE       0.89      0.89      0.89         9',\n",
       " '   QUANTITY       0.83      0.88      0.85        65']"
      ]
     },
     "execution_count": 5,
     "metadata": {},
     "output_type": "execute_result"
    }
   ],
   "source": [
    "labels"
   ]
  },
  {
   "cell_type": "markdown",
   "metadata": {},
   "source": [
    "The *f1-score* gives you the harmonic mean of precision and recall. The scores corresponding to every class will tell you the accuracy of the classifier in classifying the data points in that particular class compared to all other classes.\n",
    "\n",
    "The *support* is the number of samples of the true response that lie in that class. "
   ]
  },
  {
   "cell_type": "code",
   "execution_count": 6,
   "metadata": {},
   "outputs": [],
   "source": [
    "labels = [ list(filter(lambda x : len(x) >0 , label.split(\" \"))) for label in labels ]"
   ]
  },
  {
   "cell_type": "code",
   "execution_count": 7,
   "metadata": {},
   "outputs": [
    {
     "data": {
      "text/plain": [
       "[['CARDINAL', '0.93', '0.96', '0.94', '911'],\n",
       " ['PERCENT', '0.99', '1.00', '0.99', '206'],\n",
       " ['DATE', '0.92', '0.94', '0.93', '838'],\n",
       " ['PERSON', '0.96', '0.97', '0.97', '1051'],\n",
       " ['ORDINAL', '0.95', '0.96', '0.95', '172'],\n",
       " ['ORG', '0.88', '0.89', '0.88', '1388'],\n",
       " ['NORP', '0.91', '0.92', '0.92', '141'],\n",
       " ['GPE', '0.93', '0.95', '0.94', '826'],\n",
       " ['LOC', '0.77', '0.79', '0.78', '178'],\n",
       " ['LAW', '0.81', '0.79', '0.80', '28'],\n",
       " ['TIME', '0.87', '0.91', '0.89', '137'],\n",
       " ['FAC', '0.64', '0.64', '0.64', '77'],\n",
       " ['EVENT', '0.62', '0.75', '0.68', '130'],\n",
       " ['WORK_OF_ART', '0.78', '0.80', '0.79', '84'],\n",
       " ['PRODUCT', '0.74', '0.81', '0.77', '83'],\n",
       " ['MONEY', '0.98', '0.97', '0.98', '111'],\n",
       " ['LANGUAGE', '0.89', '0.89', '0.89', '9'],\n",
       " ['QUANTITY', '0.83', '0.88', '0.85', '65']]"
      ]
     },
     "execution_count": 7,
     "metadata": {},
     "output_type": "execute_result"
    }
   ],
   "source": [
    "labels # label name , precision , recall , f1 , support"
   ]
  },
  {
   "cell_type": "code",
   "execution_count": 8,
   "metadata": {},
   "outputs": [
    {
     "data": {
      "text/plain": [
       "18"
      ]
     },
     "execution_count": 8,
     "metadata": {},
     "output_type": "execute_result"
    }
   ],
   "source": [
    "len(labels)"
   ]
  },
  {
   "cell_type": "code",
   "execution_count": 9,
   "metadata": {},
   "outputs": [],
   "source": [
    "# Computing macro f1\n",
    "f1_scores = [float(l[3]) for l in labels]"
   ]
  },
  {
   "cell_type": "code",
   "execution_count": 10,
   "metadata": {},
   "outputs": [],
   "source": [
    "f1_sum = sum(f1_scores)"
   ]
  },
  {
   "cell_type": "code",
   "execution_count": 11,
   "metadata": {},
   "outputs": [],
   "source": [
    "macro_f1_true = f1_sum / 18"
   ]
  },
  {
   "cell_type": "code",
   "execution_count": 12,
   "metadata": {},
   "outputs": [
    {
     "data": {
      "text/plain": [
       "0.8661111111111112"
      ]
     },
     "execution_count": 12,
     "metadata": {},
     "output_type": "execute_result"
    }
   ],
   "source": [
    "macro_f1_true"
   ]
  },
  {
   "cell_type": "code",
   "execution_count": 22,
   "metadata": {},
   "outputs": [],
   "source": [
    "recall_scores = [float(l[1]) for l in labels]\n",
    "recall_sum = sum(recall_scores)\n",
    "recall_scores , recall_sum\n",
    "macro_recall = recall_sum/18"
   ]
  },
  {
   "cell_type": "code",
   "execution_count": 23,
   "metadata": {},
   "outputs": [],
   "source": [
    "precision_scores = [float(l[2]) for l in labels]\n",
    "precision_sum = sum(precision_scores)\n",
    "precision_scores , precision_sum\n",
    "macro_precision = precision_sum/18"
   ]
  },
  {
   "cell_type": "code",
   "execution_count": 21,
   "metadata": {},
   "outputs": [],
   "source": [
    "def f1(p , r):\n",
    "    return 2 * (p* r) / (p + r)"
   ]
  },
  {
   "cell_type": "code",
   "execution_count": 24,
   "metadata": {},
   "outputs": [
    {
     "data": {
      "text/plain": [
       "0.8670652715495766"
      ]
     },
     "execution_count": 24,
     "metadata": {},
     "output_type": "execute_result"
    }
   ],
   "source": [
    "f1(macro_precision,macro_recall)"
   ]
  },
  {
   "cell_type": "code",
   "execution_count": null,
   "metadata": {},
   "outputs": [],
   "source": []
  }
 ],
 "metadata": {
  "kernelspec": {
   "display_name": "Python 3",
   "language": "python",
   "name": "python3"
  },
  "language_info": {
   "codemirror_mode": {
    "name": "ipython",
    "version": 3
   },
   "file_extension": ".py",
   "mimetype": "text/x-python",
   "name": "python",
   "nbconvert_exporter": "python",
   "pygments_lexer": "ipython3",
   "version": "3.8.5"
  }
 },
 "nbformat": 4,
 "nbformat_minor": 4
}
